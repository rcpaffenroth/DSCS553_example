{
 "cells": [
  {
   "cell_type": "markdown",
   "metadata": {},
   "source": [
    "From: https://pytorch.org/tutorials//beginner/onnx/export_simple_model_to_onnx_tutorial.html"
   ]
  },
  {
   "cell_type": "code",
   "execution_count": 1,
   "metadata": {
    "collapsed": false
   },
   "outputs": [],
   "source": [
    "# For tips on running notebooks in Google Colab, see\n",
    "# https://pytorch.org/tutorials/beginner/colab\n",
    "%matplotlib inline"
   ]
  },
  {
   "cell_type": "markdown",
   "metadata": {},
   "source": [
    "[Introduction to ONNX](intro_onnx.html) \\|\\| **Exporting a PyTorch model\n",
    "to ONNX** \\|\\| [Extending the ONNX\n",
    "Registry](onnx_registry_tutorial.html)\n",
    "\n",
    "Export a PyTorch model to ONNX\n",
    "==============================\n",
    "\n",
    "**Author**: [Thiago Crepaldi](https://github.com/thiagocrepaldi)\n",
    "\n",
    "<div style=\"background-color: #54c7ec; color: #fff; font-weight: 700; padding-left: 10px; padding-top: 5px; padding-bottom: 5px\"><strong>NOTE:</strong></div>\n",
    "\n",
    "<div style=\"background-color: #f3f4f7; padding-left: 10px; padding-top: 10px; padding-bottom: 10px; padding-right: 10px\">\n",
    "\n",
    "<p>As of PyTorch 2.1, there are two versions of ONNX Exporter.</p>\n",
    "\n",
    "</div>\n",
    "\n"
   ]
  },
  {
   "cell_type": "markdown",
   "metadata": {},
   "source": [
    "In the [60 Minute\n",
    "Blitz](https://pytorch.org/tutorials/beginner/deep_learning_60min_blitz.html),\n",
    "we had the opportunity to learn about PyTorch at a high level and train\n",
    "a small neural network to classify images. In this tutorial, we are\n",
    "going to expand this to describe how to convert a model defined in\n",
    "PyTorch into the ONNX format using TorchDynamo and the\n",
    "`torch.onnx.dynamo_export` ONNX exporter.\n",
    "\n",
    "While PyTorch is great for iterating on the development of models, the\n",
    "model can be deployed to production using different formats, including\n",
    "[ONNX](https://onnx.ai/) (Open Neural Network Exchange)!\n",
    "\n",
    "ONNX is a flexible open standard format for representing machine\n",
    "learning models which standardized representations of machine learning\n",
    "allow them to be executed across a gamut of hardware platforms and\n",
    "runtime environments from large-scale cloud-based supercomputers to\n",
    "resource-constrained edge devices, such as your web browser and phone.\n",
    "\n",
    "In this tutorial, we'll learn how to:\n",
    "\n",
    "1.  Install the required dependencies.\n",
    "2.  Author a simple image classifier model.\n",
    "3.  Export the model to ONNX format.\n",
    "4.  Save the ONNX model in a file.\n",
    "5.  Visualize the ONNX model graph using\n",
    "    [Netron](https://github.com/lutzroeder/netron).\n",
    "6.  Execute the ONNX model with [ONNX Runtime]{.title-ref}\n",
    "7.  Compare the PyTorch results with the ones from the ONNX Runtime.\n",
    "\n",
    "1. Install the required dependencies\n",
    "====================================\n",
    "\n",
    "Because the ONNX exporter uses `onnx` and `onnxscript` to translate\n",
    "PyTorch operators into ONNX operators, we will need to install them.\n",
    "\n",
    "> ``` {.bash}\n",
    "> pip install onnx\n",
    "> pip install onnxscript\n",
    "> ```\n",
    "\n",
    "2. Author a simple image classifier model\n",
    "=========================================\n",
    "\n",
    "Once your environment is set up, let's start modeling our image\n",
    "classifier with PyTorch, exactly like we did in the [60 Minute\n",
    "Blitz](https://pytorch.org/tutorials/beginner/deep_learning_60min_blitz.html).\n"
   ]
  },
  {
   "cell_type": "code",
   "execution_count": 2,
   "metadata": {
    "collapsed": false
   },
   "outputs": [],
   "source": [
    "import torch\n",
    "import torch.nn as nn\n",
    "import torch.nn.functional as F\n",
    "\n",
    "\n",
    "class MyModel(nn.Module):\n",
    "\n",
    "    def __init__(self):\n",
    "        super(MyModel, self).__init__()\n",
    "        self.conv1 = nn.Conv2d(1, 6, 5)\n",
    "        self.conv2 = nn.Conv2d(6, 16, 5)\n",
    "        self.fc1 = nn.Linear(16 * 5 * 5, 120)\n",
    "        self.fc2 = nn.Linear(120, 84)\n",
    "        self.fc3 = nn.Linear(84, 10)\n",
    "\n",
    "    def forward(self, x):\n",
    "        x = F.max_pool2d(F.relu(self.conv1(x)), (2, 2))\n",
    "        x = F.max_pool2d(F.relu(self.conv2(x)), 2)\n",
    "        x = torch.flatten(x, 1)\n",
    "        x = F.relu(self.fc1(x))\n",
    "        x = F.relu(self.fc2(x))\n",
    "        x = self.fc3(x)\n",
    "        return x"
   ]
  },
  {
   "cell_type": "markdown",
   "metadata": {},
   "source": [
    "3. Export the model to ONNX format\n",
    "==================================\n",
    "\n",
    "Now that we have our model defined, we need to instantiate it and create\n",
    "a random 32x32 input. Next, we can export the model to ONNX format.\n"
   ]
  },
  {
   "cell_type": "code",
   "execution_count": 3,
   "metadata": {
    "collapsed": false
   },
   "outputs": [
    {
     "name": "stderr",
     "output_type": "stream",
     "text": [
      "/home/rcpaffenroth/DS553/CS553_example/turing_example/venv/lib/python3.10/site-packages/onnxscript/converter.py:820: FutureWarning: 'onnxscript.values.Op.param_schemas' is deprecated in version 0.1 and will be removed in the future. Please use '.op_signature' instead.\n",
      "  param_schemas = callee.param_schemas()\n",
      "/home/rcpaffenroth/DS553/CS553_example/turing_example/venv/lib/python3.10/site-packages/onnxscript/converter.py:820: FutureWarning: 'onnxscript.values.OnnxFunction.param_schemas' is deprecated in version 0.1 and will be removed in the future. Please use '.op_signature' instead.\n",
      "  param_schemas = callee.param_schemas()\n",
      "/home/rcpaffenroth/DS553/CS553_example/turing_example/venv/lib/python3.10/site-packages/torch/onnx/_internal/_exporter_legacy.py:116: UserWarning: torch.onnx.dynamo_export only implements opset version 18 for now. If you need to use a different opset version, please register them with register_custom_op.\n",
      "  warnings.warn(\n",
      "/home/rcpaffenroth/DS553/CS553_example/turing_example/venv/lib/python3.10/site-packages/torch/onnx/_internal/fx/onnxfunction_dispatcher.py:503: FutureWarning: 'onnxscript.values.TracedOnnxFunction.param_schemas' is deprecated in version 0.1 and will be removed in the future. Please use '.op_signature' instead.\n",
      "  self.param_schema = self.onnxfunction.param_schemas()\n"
     ]
    }
   ],
   "source": [
    "torch_model = MyModel()\n",
    "torch_input = torch.randn(1, 1, 32, 32)\n",
    "onnx_program = torch.onnx.dynamo_export(torch_model, torch_input)"
   ]
  },
  {
   "cell_type": "markdown",
   "metadata": {},
   "source": [
    "As we can see, we didn\\'t need any code change to the model. The\n",
    "resulting ONNX model is stored within `torch.onnx.ONNXProgram` as a\n",
    "binary protobuf file.\n",
    "\n",
    "4. Save the ONNX model in a file\n",
    "================================\n",
    "\n",
    "Although having the exported model loaded in memory is useful in many\n",
    "applications, we can save it to disk with the following code:\n"
   ]
  },
  {
   "cell_type": "code",
   "execution_count": 4,
   "metadata": {
    "collapsed": false
   },
   "outputs": [],
   "source": [
    "onnx_program.save(\"my_image_classifier.onnx\")"
   ]
  },
  {
   "cell_type": "markdown",
   "metadata": {},
   "source": [
    "You can load the ONNX file back into memory and check if it is well\n",
    "formed with the following code:\n"
   ]
  },
  {
   "cell_type": "code",
   "execution_count": 5,
   "metadata": {
    "collapsed": false
   },
   "outputs": [],
   "source": [
    "import onnx\n",
    "onnx_model = onnx.load(\"my_image_classifier.onnx\")\n",
    "onnx.checker.check_model(onnx_model)"
   ]
  },
  {
   "cell_type": "markdown",
   "metadata": {},
   "source": [
    "5. Visualize the ONNX model graph using Netron\n",
    "==============================================\n",
    "\n",
    "Now that we have our model saved in a file, we can visualize it with\n",
    "[Netron](https://github.com/lutzroeder/netron). Netron can either be\n",
    "installed on macos, Linux or Windows computers, or run directly from the\n",
    "browser. Let\\'s try the web version by opening the following link:\n",
    "<https://netron.app/>.\n",
    "\n",
    "![image](https://pytorch.org/tutorials/_static/img/onnx/netron_web_ui.png){.align-center\n",
    "width=\"70.0%\"}\n",
    "\n",
    "Once Netron is open, we can drag and drop our `my_image_classifier.onnx`\n",
    "file into the browser or select it after clicking the **Open model**\n",
    "button.\n",
    "\n",
    "![image](https://pytorch.org/tutorials/_static/img/onnx/image_clossifier_onnx_modelon_netron_web_ui.png){width=\"50.0%\"}\n",
    "\n",
    "And that is it! We have successfully exported our PyTorch model to ONNX\n",
    "format and visualized it with Netron.\n",
    "\n",
    "6. Execute the ONNX model with ONNX Runtime\n",
    "===========================================\n",
    "\n",
    "The last step is executing the ONNX model with [ONNX\n",
    "Runtime]{.title-ref}, but before we do that, let\\'s install ONNX\n",
    "Runtime.\n",
    "\n",
    "> ``` {.bash}\n",
    "> pip install onnxruntime\n",
    "> ```\n",
    "\n",
    "The ONNX standard does not support all the data structure and types that\n",
    "PyTorch does, so we need to adapt PyTorch input\\'s to ONNX format before\n",
    "feeding it to ONNX Runtime. In our example, the input happens to be the\n",
    "same, but it might have more inputs than the original PyTorch model in\n",
    "more complex models.\n",
    "\n",
    "ONNX Runtime requires an additional step that involves converting all\n",
    "PyTorch tensors to Numpy (in CPU) and wrap them on a dictionary with\n",
    "keys being a string with the input name as key and the numpy tensor as\n",
    "the value.\n",
    "\n",
    "Now we can create an *ONNX Runtime Inference Session*, execute the ONNX\n",
    "model with the processed input and get the output. In this tutorial,\n",
    "ONNX Runtime is executed on CPU, but it could be executed on GPU as\n",
    "well.\n"
   ]
  },
  {
   "cell_type": "code",
   "execution_count": 6,
   "metadata": {
    "collapsed": false
   },
   "outputs": [
    {
     "ename": "ModuleNotFoundError",
     "evalue": "No module named 'onnxruntime'",
     "output_type": "error",
     "traceback": [
      "\u001b[0;31m---------------------------------------------------------------------------\u001b[0m",
      "\u001b[0;31mModuleNotFoundError\u001b[0m                       Traceback (most recent call last)",
      "Cell \u001b[0;32mIn[6], line 1\u001b[0m\n\u001b[0;32m----> 1\u001b[0m \u001b[38;5;28;01mimport\u001b[39;00m \u001b[38;5;21;01monnxruntime\u001b[39;00m\n\u001b[1;32m      3\u001b[0m onnx_input \u001b[38;5;241m=\u001b[39m onnx_program\u001b[38;5;241m.\u001b[39madapt_torch_inputs_to_onnx(torch_input)\n\u001b[1;32m      4\u001b[0m \u001b[38;5;28mprint\u001b[39m(\u001b[38;5;124mf\u001b[39m\u001b[38;5;124m\"\u001b[39m\u001b[38;5;124mInput length: \u001b[39m\u001b[38;5;132;01m{\u001b[39;00m\u001b[38;5;28mlen\u001b[39m(onnx_input)\u001b[38;5;132;01m}\u001b[39;00m\u001b[38;5;124m\"\u001b[39m)\n",
      "\u001b[0;31mModuleNotFoundError\u001b[0m: No module named 'onnxruntime'"
     ]
    }
   ],
   "source": [
    "import onnxruntime\n",
    "\n",
    "onnx_input = onnx_program.adapt_torch_inputs_to_onnx(torch_input)\n",
    "print(f\"Input length: {len(onnx_input)}\")\n",
    "print(f\"Sample input: {onnx_input}\")\n",
    "\n",
    "ort_session = onnxruntime.InferenceSession(\"./my_image_classifier.onnx\", providers=['CPUExecutionProvider'])\n",
    "\n",
    "def to_numpy(tensor):\n",
    "    return tensor.detach().cpu().numpy() if tensor.requires_grad else tensor.cpu().numpy()\n",
    "\n",
    "onnxruntime_input = {k.name: to_numpy(v) for k, v in zip(ort_session.get_inputs(), onnx_input)}\n",
    "\n",
    "onnxruntime_outputs = ort_session.run(None, onnxruntime_input)"
   ]
  },
  {
   "cell_type": "markdown",
   "metadata": {},
   "source": [
    "7. Compare the PyTorch results with the ones from the ONNX Runtime\n",
    "==================================================================\n",
    "\n",
    "The best way to determine whether the exported model is looking good is\n",
    "through numerical evaluation against PyTorch, which is our source of\n",
    "truth.\n",
    "\n",
    "For that, we need to execute the PyTorch model with the same input and\n",
    "compare the results with ONNX Runtime\\'s. Before comparing the results,\n",
    "we need to convert the PyTorch\\'s output to match ONNX\\'s format.\n"
   ]
  },
  {
   "cell_type": "code",
   "execution_count": null,
   "metadata": {
    "collapsed": false
   },
   "outputs": [],
   "source": [
    "torch_outputs = torch_model(torch_input)\n",
    "torch_outputs = onnx_program.adapt_torch_outputs_to_onnx(torch_outputs)\n",
    "\n",
    "assert len(torch_outputs) == len(onnxruntime_outputs)\n",
    "for torch_output, onnxruntime_output in zip(torch_outputs, onnxruntime_outputs):\n",
    "    torch.testing.assert_close(torch_output, torch.tensor(onnxruntime_output))\n",
    "\n",
    "print(\"PyTorch and ONNX Runtime output matched!\")\n",
    "print(f\"Output length: {len(onnxruntime_outputs)}\")\n",
    "print(f\"Sample output: {onnxruntime_outputs}\")"
   ]
  },
  {
   "cell_type": "markdown",
   "metadata": {},
   "source": [
    "Conclusion\n",
    "==========\n",
    "\n",
    "That is about it! We have successfully exported our PyTorch model to\n",
    "ONNX format, saved the model to disk, viewed it using Netron, executed\n",
    "it with ONNX Runtime and finally compared its numerical results with\n",
    "PyTorch\\'s.\n",
    "\n",
    "Further reading\n",
    "===============\n",
    "\n",
    "The list below refers to tutorials that ranges from basic examples to\n",
    "advanced scenarios, not necessarily in the order they are listed. Feel\n",
    "free to jump directly to specific topics of your interest or sit tight\n",
    "and have fun going through all of them to learn all there is about the\n",
    "ONNX exporter.\n",
    "\n",
    "::: {.toctree hidden=\"\"}\n",
    ":::\n"
   ]
  }
 ],
 "metadata": {
  "kernelspec": {
   "display_name": "venv",
   "language": "python",
   "name": "python3"
  },
  "language_info": {
   "codemirror_mode": {
    "name": "ipython",
    "version": 3
   },
   "file_extension": ".py",
   "mimetype": "text/x-python",
   "name": "python",
   "nbconvert_exporter": "python",
   "pygments_lexer": "ipython3",
   "version": "3.10.12"
  }
 },
 "nbformat": 4,
 "nbformat_minor": 0
}
